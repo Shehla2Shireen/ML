{
  "nbformat": 4,
  "nbformat_minor": 0,
  "metadata": {
    "colab": {
      "provenance": []
    },
    "kernelspec": {
      "name": "python3",
      "display_name": "Python 3"
    },
    "language_info": {
      "name": "python"
    }
  },
  "cells": [
    {
      "cell_type": "code",
      "execution_count": 138,
      "metadata": {
        "colab": {
          "base_uri": "https://localhost:8080/",
          "height": 206
        },
        "id": "BDeUMchIR4Sa",
        "outputId": "b41e0eb8-d2a4-47b9-a4d5-061f391de105"
      },
      "outputs": [
        {
          "output_type": "execute_result",
          "data": {
            "text/plain": [
              "   gender race/ethnicity parental level of education         lunch  \\\n",
              "0  female        group B           bachelor's degree      standard   \n",
              "1  female        group C                some college      standard   \n",
              "2  female        group B             master's degree      standard   \n",
              "3    male        group A          associate's degree  free/reduced   \n",
              "4    male        group C                some college      standard   \n",
              "\n",
              "  test preparation course  math score  reading score  writing score  \n",
              "0                    none          72             72             74  \n",
              "1               completed          69             90             88  \n",
              "2                    none          90             95             93  \n",
              "3                    none          47             57             44  \n",
              "4                    none          76             78             75  "
            ],
            "text/html": [
              "\n",
              "  <div id=\"df-19e7ccd1-52f3-4f5b-8c97-1e4999f22871\" class=\"colab-df-container\">\n",
              "    <div>\n",
              "<style scoped>\n",
              "    .dataframe tbody tr th:only-of-type {\n",
              "        vertical-align: middle;\n",
              "    }\n",
              "\n",
              "    .dataframe tbody tr th {\n",
              "        vertical-align: top;\n",
              "    }\n",
              "\n",
              "    .dataframe thead th {\n",
              "        text-align: right;\n",
              "    }\n",
              "</style>\n",
              "<table border=\"1\" class=\"dataframe\">\n",
              "  <thead>\n",
              "    <tr style=\"text-align: right;\">\n",
              "      <th></th>\n",
              "      <th>gender</th>\n",
              "      <th>race/ethnicity</th>\n",
              "      <th>parental level of education</th>\n",
              "      <th>lunch</th>\n",
              "      <th>test preparation course</th>\n",
              "      <th>math score</th>\n",
              "      <th>reading score</th>\n",
              "      <th>writing score</th>\n",
              "    </tr>\n",
              "  </thead>\n",
              "  <tbody>\n",
              "    <tr>\n",
              "      <th>0</th>\n",
              "      <td>female</td>\n",
              "      <td>group B</td>\n",
              "      <td>bachelor's degree</td>\n",
              "      <td>standard</td>\n",
              "      <td>none</td>\n",
              "      <td>72</td>\n",
              "      <td>72</td>\n",
              "      <td>74</td>\n",
              "    </tr>\n",
              "    <tr>\n",
              "      <th>1</th>\n",
              "      <td>female</td>\n",
              "      <td>group C</td>\n",
              "      <td>some college</td>\n",
              "      <td>standard</td>\n",
              "      <td>completed</td>\n",
              "      <td>69</td>\n",
              "      <td>90</td>\n",
              "      <td>88</td>\n",
              "    </tr>\n",
              "    <tr>\n",
              "      <th>2</th>\n",
              "      <td>female</td>\n",
              "      <td>group B</td>\n",
              "      <td>master's degree</td>\n",
              "      <td>standard</td>\n",
              "      <td>none</td>\n",
              "      <td>90</td>\n",
              "      <td>95</td>\n",
              "      <td>93</td>\n",
              "    </tr>\n",
              "    <tr>\n",
              "      <th>3</th>\n",
              "      <td>male</td>\n",
              "      <td>group A</td>\n",
              "      <td>associate's degree</td>\n",
              "      <td>free/reduced</td>\n",
              "      <td>none</td>\n",
              "      <td>47</td>\n",
              "      <td>57</td>\n",
              "      <td>44</td>\n",
              "    </tr>\n",
              "    <tr>\n",
              "      <th>4</th>\n",
              "      <td>male</td>\n",
              "      <td>group C</td>\n",
              "      <td>some college</td>\n",
              "      <td>standard</td>\n",
              "      <td>none</td>\n",
              "      <td>76</td>\n",
              "      <td>78</td>\n",
              "      <td>75</td>\n",
              "    </tr>\n",
              "  </tbody>\n",
              "</table>\n",
              "</div>\n",
              "    <div class=\"colab-df-buttons\">\n",
              "\n",
              "  <div class=\"colab-df-container\">\n",
              "    <button class=\"colab-df-convert\" onclick=\"convertToInteractive('df-19e7ccd1-52f3-4f5b-8c97-1e4999f22871')\"\n",
              "            title=\"Convert this dataframe to an interactive table.\"\n",
              "            style=\"display:none;\">\n",
              "\n",
              "  <svg xmlns=\"http://www.w3.org/2000/svg\" height=\"24px\" viewBox=\"0 -960 960 960\">\n",
              "    <path d=\"M120-120v-720h720v720H120Zm60-500h600v-160H180v160Zm220 220h160v-160H400v160Zm0 220h160v-160H400v160ZM180-400h160v-160H180v160Zm440 0h160v-160H620v160ZM180-180h160v-160H180v160Zm440 0h160v-160H620v160Z\"/>\n",
              "  </svg>\n",
              "    </button>\n",
              "\n",
              "  <style>\n",
              "    .colab-df-container {\n",
              "      display:flex;\n",
              "      gap: 12px;\n",
              "    }\n",
              "\n",
              "    .colab-df-convert {\n",
              "      background-color: #E8F0FE;\n",
              "      border: none;\n",
              "      border-radius: 50%;\n",
              "      cursor: pointer;\n",
              "      display: none;\n",
              "      fill: #1967D2;\n",
              "      height: 32px;\n",
              "      padding: 0 0 0 0;\n",
              "      width: 32px;\n",
              "    }\n",
              "\n",
              "    .colab-df-convert:hover {\n",
              "      background-color: #E2EBFA;\n",
              "      box-shadow: 0px 1px 2px rgba(60, 64, 67, 0.3), 0px 1px 3px 1px rgba(60, 64, 67, 0.15);\n",
              "      fill: #174EA6;\n",
              "    }\n",
              "\n",
              "    .colab-df-buttons div {\n",
              "      margin-bottom: 4px;\n",
              "    }\n",
              "\n",
              "    [theme=dark] .colab-df-convert {\n",
              "      background-color: #3B4455;\n",
              "      fill: #D2E3FC;\n",
              "    }\n",
              "\n",
              "    [theme=dark] .colab-df-convert:hover {\n",
              "      background-color: #434B5C;\n",
              "      box-shadow: 0px 1px 3px 1px rgba(0, 0, 0, 0.15);\n",
              "      filter: drop-shadow(0px 1px 2px rgba(0, 0, 0, 0.3));\n",
              "      fill: #FFFFFF;\n",
              "    }\n",
              "  </style>\n",
              "\n",
              "    <script>\n",
              "      const buttonEl =\n",
              "        document.querySelector('#df-19e7ccd1-52f3-4f5b-8c97-1e4999f22871 button.colab-df-convert');\n",
              "      buttonEl.style.display =\n",
              "        google.colab.kernel.accessAllowed ? 'block' : 'none';\n",
              "\n",
              "      async function convertToInteractive(key) {\n",
              "        const element = document.querySelector('#df-19e7ccd1-52f3-4f5b-8c97-1e4999f22871');\n",
              "        const dataTable =\n",
              "          await google.colab.kernel.invokeFunction('convertToInteractive',\n",
              "                                                    [key], {});\n",
              "        if (!dataTable) return;\n",
              "\n",
              "        const docLinkHtml = 'Like what you see? Visit the ' +\n",
              "          '<a target=\"_blank\" href=https://colab.research.google.com/notebooks/data_table.ipynb>data table notebook</a>'\n",
              "          + ' to learn more about interactive tables.';\n",
              "        element.innerHTML = '';\n",
              "        dataTable['output_type'] = 'display_data';\n",
              "        await google.colab.output.renderOutput(dataTable, element);\n",
              "        const docLink = document.createElement('div');\n",
              "        docLink.innerHTML = docLinkHtml;\n",
              "        element.appendChild(docLink);\n",
              "      }\n",
              "    </script>\n",
              "  </div>\n",
              "\n",
              "\n",
              "    <div id=\"df-a1df88d5-e8cb-483d-a5fe-1605dfea106d\">\n",
              "      <button class=\"colab-df-quickchart\" onclick=\"quickchart('df-a1df88d5-e8cb-483d-a5fe-1605dfea106d')\"\n",
              "                title=\"Suggest charts\"\n",
              "                style=\"display:none;\">\n",
              "\n",
              "<svg xmlns=\"http://www.w3.org/2000/svg\" height=\"24px\"viewBox=\"0 0 24 24\"\n",
              "     width=\"24px\">\n",
              "    <g>\n",
              "        <path d=\"M19 3H5c-1.1 0-2 .9-2 2v14c0 1.1.9 2 2 2h14c1.1 0 2-.9 2-2V5c0-1.1-.9-2-2-2zM9 17H7v-7h2v7zm4 0h-2V7h2v10zm4 0h-2v-4h2v4z\"/>\n",
              "    </g>\n",
              "</svg>\n",
              "      </button>\n",
              "\n",
              "<style>\n",
              "  .colab-df-quickchart {\n",
              "      --bg-color: #E8F0FE;\n",
              "      --fill-color: #1967D2;\n",
              "      --hover-bg-color: #E2EBFA;\n",
              "      --hover-fill-color: #174EA6;\n",
              "      --disabled-fill-color: #AAA;\n",
              "      --disabled-bg-color: #DDD;\n",
              "  }\n",
              "\n",
              "  [theme=dark] .colab-df-quickchart {\n",
              "      --bg-color: #3B4455;\n",
              "      --fill-color: #D2E3FC;\n",
              "      --hover-bg-color: #434B5C;\n",
              "      --hover-fill-color: #FFFFFF;\n",
              "      --disabled-bg-color: #3B4455;\n",
              "      --disabled-fill-color: #666;\n",
              "  }\n",
              "\n",
              "  .colab-df-quickchart {\n",
              "    background-color: var(--bg-color);\n",
              "    border: none;\n",
              "    border-radius: 50%;\n",
              "    cursor: pointer;\n",
              "    display: none;\n",
              "    fill: var(--fill-color);\n",
              "    height: 32px;\n",
              "    padding: 0;\n",
              "    width: 32px;\n",
              "  }\n",
              "\n",
              "  .colab-df-quickchart:hover {\n",
              "    background-color: var(--hover-bg-color);\n",
              "    box-shadow: 0 1px 2px rgba(60, 64, 67, 0.3), 0 1px 3px 1px rgba(60, 64, 67, 0.15);\n",
              "    fill: var(--button-hover-fill-color);\n",
              "  }\n",
              "\n",
              "  .colab-df-quickchart-complete:disabled,\n",
              "  .colab-df-quickchart-complete:disabled:hover {\n",
              "    background-color: var(--disabled-bg-color);\n",
              "    fill: var(--disabled-fill-color);\n",
              "    box-shadow: none;\n",
              "  }\n",
              "\n",
              "  .colab-df-spinner {\n",
              "    border: 2px solid var(--fill-color);\n",
              "    border-color: transparent;\n",
              "    border-bottom-color: var(--fill-color);\n",
              "    animation:\n",
              "      spin 1s steps(1) infinite;\n",
              "  }\n",
              "\n",
              "  @keyframes spin {\n",
              "    0% {\n",
              "      border-color: transparent;\n",
              "      border-bottom-color: var(--fill-color);\n",
              "      border-left-color: var(--fill-color);\n",
              "    }\n",
              "    20% {\n",
              "      border-color: transparent;\n",
              "      border-left-color: var(--fill-color);\n",
              "      border-top-color: var(--fill-color);\n",
              "    }\n",
              "    30% {\n",
              "      border-color: transparent;\n",
              "      border-left-color: var(--fill-color);\n",
              "      border-top-color: var(--fill-color);\n",
              "      border-right-color: var(--fill-color);\n",
              "    }\n",
              "    40% {\n",
              "      border-color: transparent;\n",
              "      border-right-color: var(--fill-color);\n",
              "      border-top-color: var(--fill-color);\n",
              "    }\n",
              "    60% {\n",
              "      border-color: transparent;\n",
              "      border-right-color: var(--fill-color);\n",
              "    }\n",
              "    80% {\n",
              "      border-color: transparent;\n",
              "      border-right-color: var(--fill-color);\n",
              "      border-bottom-color: var(--fill-color);\n",
              "    }\n",
              "    90% {\n",
              "      border-color: transparent;\n",
              "      border-bottom-color: var(--fill-color);\n",
              "    }\n",
              "  }\n",
              "</style>\n",
              "\n",
              "      <script>\n",
              "        async function quickchart(key) {\n",
              "          const quickchartButtonEl =\n",
              "            document.querySelector('#' + key + ' button');\n",
              "          quickchartButtonEl.disabled = true;  // To prevent multiple clicks.\n",
              "          quickchartButtonEl.classList.add('colab-df-spinner');\n",
              "          try {\n",
              "            const charts = await google.colab.kernel.invokeFunction(\n",
              "                'suggestCharts', [key], {});\n",
              "          } catch (error) {\n",
              "            console.error('Error during call to suggestCharts:', error);\n",
              "          }\n",
              "          quickchartButtonEl.classList.remove('colab-df-spinner');\n",
              "          quickchartButtonEl.classList.add('colab-df-quickchart-complete');\n",
              "        }\n",
              "        (() => {\n",
              "          let quickchartButtonEl =\n",
              "            document.querySelector('#df-a1df88d5-e8cb-483d-a5fe-1605dfea106d button');\n",
              "          quickchartButtonEl.style.display =\n",
              "            google.colab.kernel.accessAllowed ? 'block' : 'none';\n",
              "        })();\n",
              "      </script>\n",
              "    </div>\n",
              "\n",
              "    </div>\n",
              "  </div>\n"
            ],
            "application/vnd.google.colaboratory.intrinsic+json": {
              "type": "dataframe",
              "variable_name": "df",
              "summary": "{\n  \"name\": \"df\",\n  \"rows\": 1000,\n  \"fields\": [\n    {\n      \"column\": \"gender\",\n      \"properties\": {\n        \"dtype\": \"category\",\n        \"num_unique_values\": 2,\n        \"samples\": [\n          \"male\",\n          \"female\"\n        ],\n        \"semantic_type\": \"\",\n        \"description\": \"\"\n      }\n    },\n    {\n      \"column\": \"race/ethnicity\",\n      \"properties\": {\n        \"dtype\": \"category\",\n        \"num_unique_values\": 5,\n        \"samples\": [\n          \"group C\",\n          \"group E\"\n        ],\n        \"semantic_type\": \"\",\n        \"description\": \"\"\n      }\n    },\n    {\n      \"column\": \"parental level of education\",\n      \"properties\": {\n        \"dtype\": \"category\",\n        \"num_unique_values\": 6,\n        \"samples\": [\n          \"bachelor's degree\",\n          \"some college\"\n        ],\n        \"semantic_type\": \"\",\n        \"description\": \"\"\n      }\n    },\n    {\n      \"column\": \"lunch\",\n      \"properties\": {\n        \"dtype\": \"category\",\n        \"num_unique_values\": 2,\n        \"samples\": [\n          \"free/reduced\",\n          \"standard\"\n        ],\n        \"semantic_type\": \"\",\n        \"description\": \"\"\n      }\n    },\n    {\n      \"column\": \"test preparation course\",\n      \"properties\": {\n        \"dtype\": \"category\",\n        \"num_unique_values\": 2,\n        \"samples\": [\n          \"completed\",\n          \"none\"\n        ],\n        \"semantic_type\": \"\",\n        \"description\": \"\"\n      }\n    },\n    {\n      \"column\": \"math score\",\n      \"properties\": {\n        \"dtype\": \"number\",\n        \"std\": 15,\n        \"min\": 0,\n        \"max\": 100,\n        \"num_unique_values\": 81,\n        \"samples\": [\n          55,\n          72\n        ],\n        \"semantic_type\": \"\",\n        \"description\": \"\"\n      }\n    },\n    {\n      \"column\": \"reading score\",\n      \"properties\": {\n        \"dtype\": \"number\",\n        \"std\": 14,\n        \"min\": 17,\n        \"max\": 100,\n        \"num_unique_values\": 72,\n        \"samples\": [\n          78,\n          23\n        ],\n        \"semantic_type\": \"\",\n        \"description\": \"\"\n      }\n    },\n    {\n      \"column\": \"writing score\",\n      \"properties\": {\n        \"dtype\": \"number\",\n        \"std\": 15,\n        \"min\": 10,\n        \"max\": 100,\n        \"num_unique_values\": 77,\n        \"samples\": [\n          75,\n          76\n        ],\n        \"semantic_type\": \"\",\n        \"description\": \"\"\n      }\n    }\n  ]\n}"
            }
          },
          "metadata": {},
          "execution_count": 138
        }
      ],
      "source": [
        "# @title Section # 1 : Data Preprocessing\n",
        "import pandas as pd\n",
        "\n",
        "file_path=\"/content/drive/MyDrive/StudentsPerformance.csv\"\n",
        "df= pd.read_csv(file_path)\n",
        "df.head()"
      ]
    },
    {
      "cell_type": "code",
      "source": [
        "#check shape\n",
        "df.shape"
      ],
      "metadata": {
        "colab": {
          "base_uri": "https://localhost:8080/"
        },
        "id": "cGWg_rCaT82c",
        "outputId": "707e4cc7-69cf-4749-da32-66f4d03ccce2"
      },
      "execution_count": 139,
      "outputs": [
        {
          "output_type": "execute_result",
          "data": {
            "text/plain": [
              "(1000, 8)"
            ]
          },
          "metadata": {},
          "execution_count": 139
        }
      ]
    },
    {
      "cell_type": "code",
      "source": [
        "#check data types and null counts\n",
        "df.info()\n"
      ],
      "metadata": {
        "colab": {
          "base_uri": "https://localhost:8080/"
        },
        "id": "Qmf3X8KZUExC",
        "outputId": "26646c68-bc6f-44f2-e3f3-f48005806009"
      },
      "execution_count": 140,
      "outputs": [
        {
          "output_type": "stream",
          "name": "stdout",
          "text": [
            "<class 'pandas.core.frame.DataFrame'>\n",
            "RangeIndex: 1000 entries, 0 to 999\n",
            "Data columns (total 8 columns):\n",
            " #   Column                       Non-Null Count  Dtype \n",
            "---  ------                       --------------  ----- \n",
            " 0   gender                       1000 non-null   object\n",
            " 1   race/ethnicity               1000 non-null   object\n",
            " 2   parental level of education  1000 non-null   object\n",
            " 3   lunch                        1000 non-null   object\n",
            " 4   test preparation course      1000 non-null   object\n",
            " 5   math score                   1000 non-null   int64 \n",
            " 6   reading score                1000 non-null   int64 \n",
            " 7   writing score                1000 non-null   int64 \n",
            "dtypes: int64(3), object(5)\n",
            "memory usage: 62.6+ KB\n"
          ]
        }
      ]
    },
    {
      "cell_type": "markdown",
      "source": [
        "OBSERVATION:\n",
        "\n",
        "Invalid Data Types : none\n",
        "\n",
        "Missing Values     : none"
      ],
      "metadata": {
        "id": "zkRw-ihOBJgG"
      }
    },
    {
      "cell_type": "code",
      "source": [
        "# Check data types\n",
        "\n",
        "print(\"\\nData Types:\")\n",
        "print(df.dtypes)"
      ],
      "metadata": {
        "colab": {
          "base_uri": "https://localhost:8080/"
        },
        "id": "pJXcR8PBUM36",
        "outputId": "7ae8c74c-9b0d-4872-a64d-928ef62adc63"
      },
      "execution_count": 141,
      "outputs": [
        {
          "output_type": "stream",
          "name": "stdout",
          "text": [
            "\n",
            "Data Types:\n",
            "gender                         object\n",
            "race/ethnicity                 object\n",
            "parental level of education    object\n",
            "lunch                          object\n",
            "test preparation course        object\n",
            "math score                      int64\n",
            "reading score                   int64\n",
            "writing score                   int64\n",
            "dtype: object\n"
          ]
        }
      ]
    },
    {
      "cell_type": "code",
      "source": [
        "#drop unnecessary columns\n",
        "\n",
        "# Drop reading score and writing score columns from the DataFrame\n",
        "df = df.drop(columns=['reading score', 'writing score'])\n"
      ],
      "metadata": {
        "id": "wHhFHULwtch4"
      },
      "execution_count": 142,
      "outputs": []
    },
    {
      "cell_type": "markdown",
      "source": [
        "EXPLANATION:\n",
        "\n",
        "Since reading score and writing score are themselves outcome variables closely related to academic performance, including them as predictors would make the model less realistic and potentially leak information about the target variable. This can lead to overly optimistic model performance that doesn’t generalize well."
      ],
      "metadata": {
        "id": "LsTk-cmTt3PQ"
      }
    },
    {
      "cell_type": "markdown",
      "source": [
        "OBSERVATION:\n",
        "\n",
        "All data types seem correct"
      ],
      "metadata": {
        "id": "tn3O6sSL7R79"
      }
    },
    {
      "cell_type": "code",
      "source": [
        "# @title Classification of Numerical Continuous, Numerical Discrete and Categorical Variables\n",
        "# Display the number of unique values for each column\n",
        "unique_counts = df.nunique()\n",
        "print(unique_counts) #score columns are continuous\n"
      ],
      "metadata": {
        "colab": {
          "base_uri": "https://localhost:8080/"
        },
        "id": "9S6fom2xWRZa",
        "outputId": "62397363-9a97-4edc-db69-8465feb4a5f3"
      },
      "execution_count": 143,
      "outputs": [
        {
          "output_type": "stream",
          "name": "stdout",
          "text": [
            "gender                          2\n",
            "race/ethnicity                  5\n",
            "parental level of education     6\n",
            "lunch                           2\n",
            "test preparation course         2\n",
            "math score                     81\n",
            "dtype: int64\n"
          ]
        }
      ]
    },
    {
      "cell_type": "markdown",
      "source": [
        "OBSERVATION:\n",
        "\n",
        "numerical (continuous) : math score, readng score, writing score\n",
        "\n",
        "categorical: gender, race/ethncity, parental level of education, lunch, test preperation score (we will categorize these as nomnal/ordinal later)"
      ],
      "metadata": {
        "id": "zqhblfE-7XbR"
      }
    },
    {
      "cell_type": "code",
      "source": [
        "# Show unique values for each column\n",
        "for col in df.columns:\n",
        "    print(f\"Column: {col}\")\n",
        "    print(df[col].unique())\n",
        "    print(\"-\" * 40)   #all good\n"
      ],
      "metadata": {
        "colab": {
          "base_uri": "https://localhost:8080/"
        },
        "id": "wJIwHn39Wuq7",
        "outputId": "eb7db07c-e82e-4c6e-d73b-4115857117fb"
      },
      "execution_count": 144,
      "outputs": [
        {
          "output_type": "stream",
          "name": "stdout",
          "text": [
            "Column: gender\n",
            "['female' 'male']\n",
            "----------------------------------------\n",
            "Column: race/ethnicity\n",
            "['group B' 'group C' 'group A' 'group D' 'group E']\n",
            "----------------------------------------\n",
            "Column: parental level of education\n",
            "[\"bachelor's degree\" 'some college' \"master's degree\" \"associate's degree\"\n",
            " 'high school' 'some high school']\n",
            "----------------------------------------\n",
            "Column: lunch\n",
            "['standard' 'free/reduced']\n",
            "----------------------------------------\n",
            "Column: test preparation course\n",
            "['none' 'completed']\n",
            "----------------------------------------\n",
            "Column: math score\n",
            "[ 72  69  90  47  76  71  88  40  64  38  58  65  78  50  18  46  54  66\n",
            "  44  74  73  67  70  62  63  56  97  81  75  57  55  53  59  82  77  33\n",
            "  52   0  79  39  45  60  61  41  49  30  80  42  27  43  68  85  98  87\n",
            "  51  99  84  91  83  89  22 100  96  94  48  35  34  86  92  37  28  24\n",
            "  26  95  36  29  32  93  19  23   8]\n",
            "----------------------------------------\n"
          ]
        }
      ]
    },
    {
      "cell_type": "markdown",
      "source": [
        "OBSERVATION:\n",
        "\n",
        "No odd or repetitive unique values found."
      ],
      "metadata": {
        "id": "sI9D6AUoBs7R"
      }
    },
    {
      "cell_type": "code",
      "source": [
        "# @title Duplicates\n",
        "# duplicate in data set\n",
        "df.duplicated().sum()"
      ],
      "metadata": {
        "colab": {
          "base_uri": "https://localhost:8080/"
        },
        "id": "optG1KC1XC_m",
        "outputId": "ff7558ef-a342-4a22-c553-c12a86fa6f3e"
      },
      "execution_count": 145,
      "outputs": [
        {
          "output_type": "execute_result",
          "data": {
            "text/plain": [
              "np.int64(57)"
            ]
          },
          "metadata": {},
          "execution_count": 145
        }
      ]
    },
    {
      "cell_type": "markdown",
      "source": [
        "OBSERVATION:\n",
        "\n",
        "No duplicates found"
      ],
      "metadata": {
        "id": "KNyYJ99x8rJy"
      }
    },
    {
      "cell_type": "code",
      "source": [
        "# @title Missing Values\n",
        "#overview of missing values\n",
        "\n",
        "df.isnull().sum()\n"
      ],
      "metadata": {
        "colab": {
          "base_uri": "https://localhost:8080/",
          "height": 272
        },
        "id": "fop982okXc-T",
        "outputId": "7ce0ad0a-9c4f-4dad-cb07-3afd69bc2c49"
      },
      "execution_count": 146,
      "outputs": [
        {
          "output_type": "execute_result",
          "data": {
            "text/plain": [
              "gender                         0\n",
              "race/ethnicity                 0\n",
              "parental level of education    0\n",
              "lunch                          0\n",
              "test preparation course        0\n",
              "math score                     0\n",
              "dtype: int64"
            ],
            "text/html": [
              "<div>\n",
              "<style scoped>\n",
              "    .dataframe tbody tr th:only-of-type {\n",
              "        vertical-align: middle;\n",
              "    }\n",
              "\n",
              "    .dataframe tbody tr th {\n",
              "        vertical-align: top;\n",
              "    }\n",
              "\n",
              "    .dataframe thead th {\n",
              "        text-align: right;\n",
              "    }\n",
              "</style>\n",
              "<table border=\"1\" class=\"dataframe\">\n",
              "  <thead>\n",
              "    <tr style=\"text-align: right;\">\n",
              "      <th></th>\n",
              "      <th>0</th>\n",
              "    </tr>\n",
              "  </thead>\n",
              "  <tbody>\n",
              "    <tr>\n",
              "      <th>gender</th>\n",
              "      <td>0</td>\n",
              "    </tr>\n",
              "    <tr>\n",
              "      <th>race/ethnicity</th>\n",
              "      <td>0</td>\n",
              "    </tr>\n",
              "    <tr>\n",
              "      <th>parental level of education</th>\n",
              "      <td>0</td>\n",
              "    </tr>\n",
              "    <tr>\n",
              "      <th>lunch</th>\n",
              "      <td>0</td>\n",
              "    </tr>\n",
              "    <tr>\n",
              "      <th>test preparation course</th>\n",
              "      <td>0</td>\n",
              "    </tr>\n",
              "    <tr>\n",
              "      <th>math score</th>\n",
              "      <td>0</td>\n",
              "    </tr>\n",
              "  </tbody>\n",
              "</table>\n",
              "</div><br><label><b>dtype:</b> int64</label>"
            ]
          },
          "metadata": {},
          "execution_count": 146
        }
      ]
    },
    {
      "cell_type": "markdown",
      "source": [
        "OBSERVATION:\n",
        "\n",
        "No missing values found\n"
      ],
      "metadata": {
        "id": "8t4edOMY8vhK"
      }
    },
    {
      "cell_type": "code",
      "source": [
        "# @title Outliers Detection\n",
        "import matplotlib.pyplot as plt\n",
        "\n",
        "continuous_cols = ['math score']\n",
        "\n",
        "# Plot boxplots in a loop\n",
        "for col in continuous_cols:\n",
        "    plt.figure(figsize=(6, 4))\n",
        "    plt.boxplot(df[col].dropna())\n",
        "    plt.title(f'Boxplot of {col}')\n",
        "    plt.ylabel(col)\n",
        "    plt.grid(True)\n",
        "    plt.tight_layout()\n",
        "    plt.show()"
      ],
      "metadata": {
        "colab": {
          "base_uri": "https://localhost:8080/",
          "height": 407
        },
        "id": "I3l6IHqcY_IQ",
        "outputId": "c15c53fc-5981-4e0c-df46-08b0efbe2788"
      },
      "execution_count": 147,
      "outputs": [
        {
          "output_type": "display_data",
          "data": {
            "text/plain": [
              "<Figure size 600x400 with 1 Axes>"
            ],
            "image/png": "[encoded data removed]"
          },
          "metadata": {}
        }
      ]
    },
    {
      "cell_type": "markdown",
      "source": [
        "OBSERVATION:\n",
        "\n",
        "Outliers detected in math score so we need to cap them."
      ],
      "metadata": {
        "id": "eTy9jNo0ud2A"
      }
    },
    {
      "cell_type": "code",
      "source": [
        "# fix outliers\n",
        "\n",
        "# Calculate IQR\n",
        "Q1 = df['math score'].quantile(0.25)\n",
        "Q3 = df['math score'].quantile(0.75)\n",
        "IQR = Q3 - Q1\n",
        "# Define lower and upper bounds\n",
        "lower_bound = Q1 - 1.5 * IQR\n",
        "upper_bound = Q3 + 1.5 * IQR\n",
        "# Cap outliers\n",
        "df['math score'] = df['math score'].clip(lower=lower_bound, upper=upper_bound)\n",
        "\n",
        "\n"
      ],
      "metadata": {
        "id": "rqKZLlEqZd6F"
      },
      "execution_count": 149,
      "outputs": []
    },
    {
      "cell_type": "code",
      "source": [
        "# verify outliers\n",
        "\n",
        "#Verify\n",
        "\n",
        "\n",
        "import matplotlib.pyplot as plt\n",
        "\n",
        "temp_meal_cols = ['math score']\n",
        "\n",
        "# Plot boxplots in a loop\n",
        "for col in temp_meal_cols:\n",
        "    plt.figure(figsize=(6, 4))\n",
        "    plt.boxplot(df[col].dropna())\n",
        "    plt.title(f'Boxplot of {col}')\n",
        "    plt.ylabel(col)\n",
        "    plt.grid(True)\n",
        "    plt.tight_layout()\n",
        "    plt.show()"
      ],
      "metadata": {
        "colab": {
          "base_uri": "https://localhost:8080/",
          "height": 407
        },
        "id": "QKiXDFY-xnQ_",
        "outputId": "01d000e7-e6e4-4d83-e14c-d66671ff1d85"
      },
      "execution_count": 150,
      "outputs": [
        {
          "output_type": "display_data",
          "data": {
            "text/plain": [
              "<Figure size 600x400 with 1 Axes>"
            ],
            "image/png": "[encoded data removed]"
          },
          "metadata": {}
        }
      ]
    },
    {
      "cell_type": "code",
      "source": [
        "# encode categorical features\n",
        "\n",
        "categorical_cols = df.select_dtypes(exclude=['number'])\n",
        "print(categorical_cols)\n"
      ],
      "metadata": {
        "colab": {
          "base_uri": "https://localhost:8080/"
        },
        "id": "voanDPP6xy-a",
        "outputId": "d1f42590-5e78-4ba8-cf5d-84acdbecde3e"
      },
      "execution_count": 151,
      "outputs": [
        {
          "output_type": "stream",
          "name": "stdout",
          "text": [
            "     gender race/ethnicity parental level of education         lunch  \\\n",
            "0    female        group B           bachelor's degree      standard   \n",
            "1    female        group C                some college      standard   \n",
            "2    female        group B             master's degree      standard   \n",
            "3      male        group A          associate's degree  free/reduced   \n",
            "4      male        group C                some college      standard   \n",
            "..      ...            ...                         ...           ...   \n",
            "995  female        group E             master's degree      standard   \n",
            "996    male        group C                 high school  free/reduced   \n",
            "997  female        group C                 high school  free/reduced   \n",
            "998  female        group D                some college      standard   \n",
            "999  female        group D                some college  free/reduced   \n",
            "\n",
            "    test preparation course  \n",
            "0                      none  \n",
            "1                 completed  \n",
            "2                      none  \n",
            "3                      none  \n",
            "4                      none  \n",
            "..                      ...  \n",
            "995               completed  \n",
            "996                    none  \n",
            "997               completed  \n",
            "998               completed  \n",
            "999                    none  \n",
            "\n",
            "[1000 rows x 5 columns]\n"
          ]
        }
      ]
    },
    {
      "cell_type": "markdown",
      "source": [
        "OBSEVATION:\n",
        "\n",
        "we classify categorical data as:\n",
        "\n",
        "\n",
        "nominal : gender, race/thnicity, lunch    -> one-hot encoding\n",
        "\n",
        "ordinal : parental level of education, test preparation course   ->label encoding\n",
        "\n"
      ],
      "metadata": {
        "id": "PEzVZ4Nz9DkU"
      }
    },
    {
      "cell_type": "code",
      "source": [
        "# @title Encoding Catergorical Variables\n",
        "# nominal : gender, race/thnicity, lunch                           -> one-hot encoding\n",
        "# ordinal : parental level of education, test preparation course   ->label encoding\n",
        "from sklearn.preprocessing import OneHotEncoder, OrdinalEncoder\n",
        "from sklearn.compose import ColumnTransformer\n",
        "\n",
        "nominal_features=['gender', 'race/ethnicity', 'lunch']\n",
        "ordinal_features=['parental level of education', 'test preparation course']\n",
        "\n",
        "# Define order for ordinal encoding\n",
        "education_order = [\n",
        "    'some high school', 'high school', 'some college',\n",
        "    \"associate's degree\", \"bachelor's degree\", \"master's degree\"\n",
        "]\n",
        "prep_course_order = ['none', 'completed']\n",
        "\n",
        "# Create encoders\n",
        "preprocessor = ColumnTransformer(transformers=[\n",
        "    ('ordinal', OrdinalEncoder(categories=[education_order, prep_course_order]), ordinal_features),\n",
        "    ('nominal', OneHotEncoder(drop='first'), nominal_features)\n",
        "])"
      ],
      "metadata": {
        "id": "L4mu-jD90q4L"
      },
      "execution_count": 152,
      "outputs": []
    },
    {
      "cell_type": "markdown",
      "source": [
        "EXPLANATION:\n",
        "\n",
        "We have one-hot encoded the nominal features and label encoded the ordinal features."
      ],
      "metadata": {
        "id": "PqC9ICiIu_TY"
      }
    },
    {
      "cell_type": "code",
      "source": [
        "# Save the target variable\n",
        "target = df['math score']\n",
        "\n",
        "# Fit and transform only the features\n",
        "X_encoded = preprocessor.fit_transform(df)\n",
        "\n",
        "# Get encoded feature names\n",
        "encoded_feature_names = (\n",
        "    ordinal_features +\n",
        "    preprocessor.named_transformers_['nominal'].get_feature_names_out(nominal_features).tolist()\n",
        ")\n",
        "\n",
        "# Reassign df to the new encoded DataFrame\n",
        "df = pd.DataFrame(X_encoded, columns=encoded_feature_names)\n",
        "\n",
        "# Add back the target\n",
        "df['math score'] = target\n"
      ],
      "metadata": {
        "id": "EtWOzToh-LV4"
      },
      "execution_count": 153,
      "outputs": []
    },
    {
      "cell_type": "code",
      "source": [
        "df.head()"
      ],
      "metadata": {
        "colab": {
          "base_uri": "https://localhost:8080/",
          "height": 206
        },
        "id": "Fk9hyS18-WaP",
        "outputId": "9044fc6c-d285-4b4c-8abd-0af5c5a879b4"
      },
      "execution_count": 154,
      "outputs": [
        {
          "output_type": "execute_result",
          "data": {
            "text/plain": [
              "   parental level of education  test preparation course  gender_male  \\\n",
              "0                          4.0                      0.0          0.0   \n",
              "1                          2.0                      1.0          0.0   \n",
              "2                          5.0                      0.0          0.0   \n",
              "3                          3.0                      0.0          1.0   \n",
              "4                          2.0                      0.0          1.0   \n",
              "\n",
              "   race/ethnicity_group B  race/ethnicity_group C  race/ethnicity_group D  \\\n",
              "0                     1.0                     0.0                     0.0   \n",
              "1                     0.0                     1.0                     0.0   \n",
              "2                     1.0                     0.0                     0.0   \n",
              "3                     0.0                     0.0                     0.0   \n",
              "4                     0.0                     1.0                     0.0   \n",
              "\n",
              "   race/ethnicity_group E  lunch_standard  math score  \n",
              "0                     0.0             1.0          72  \n",
              "1                     0.0             1.0          69  \n",
              "2                     0.0             1.0          90  \n",
              "3                     0.0             0.0          47  \n",
              "4                     0.0             1.0          76  "
            ],
            "text/html": [
              "\n",
              "  <div id=\"df-f722a3f6-6a1e-43f2-a153-515adc34fd4f\" class=\"colab-df-container\">\n",
              "    <div>\n",
              "<style scoped>\n",
              "    .dataframe tbody tr th:only-of-type {\n",
              "        vertical-align: middle;\n",
              "    }\n",
              "\n",
              "    .dataframe tbody tr th {\n",
              "        vertical-align: top;\n",
              "    }\n",
              "\n",
              "    .dataframe thead th {\n",
              "        text-align: right;\n",
              "    }\n",
              "</style>\n",
              "<table border=\"1\" class=\"dataframe\">\n",
              "  <thead>\n",
              "    <tr style=\"text-align: right;\">\n",
              "      <th></th>\n",
              "      <th>parental level of education</th>\n",
              "      <th>test preparation course</th>\n",
              "      <th>gender_male</th>\n",
              "      <th>race/ethnicity_group B</th>\n",
              "      <th>race/ethnicity_group C</th>\n",
              "      <th>race/ethnicity_group D</th>\n",
              "      <th>race/ethnicity_group E</th>\n",
              "      <th>lunch_standard</th>\n",
              "      <th>math score</th>\n",
              "    </tr>\n",
              "  </thead>\n",
              "  <tbody>\n",
              "    <tr>\n",
              "      <th>0</th>\n",
              "      <td>4.0</td>\n",
              "      <td>0.0</td>\n",
              "      <td>0.0</td>\n",
              "      <td>1.0</td>\n",
              "      <td>0.0</td>\n",
              "      <td>0.0</td>\n",
              "      <td>0.0</td>\n",
              "      <td>1.0</td>\n",
              "      <td>72</td>\n",
              "    </tr>\n",
              "    <tr>\n",
              "      <th>1</th>\n",
              "      <td>2.0</td>\n",
              "      <td>1.0</td>\n",
              "      <td>0.0</td>\n",
              "      <td>0.0</td>\n",
              "      <td>1.0</td>\n",
              "      <td>0.0</td>\n",
              "      <td>0.0</td>\n",
              "      <td>1.0</td>\n",
              "      <td>69</td>\n",
              "    </tr>\n",
              "    <tr>\n",
              "      <th>2</th>\n",
              "      <td>5.0</td>\n",
              "      <td>0.0</td>\n",
              "      <td>0.0</td>\n",
              "      <td>1.0</td>\n",
              "      <td>0.0</td>\n",
              "      <td>0.0</td>\n",
              "      <td>0.0</td>\n",
              "      <td>1.0</td>\n",
              "      <td>90</td>\n",
              "    </tr>\n",
              "    <tr>\n",
              "      <th>3</th>\n",
              "      <td>3.0</td>\n",
              "      <td>0.0</td>\n",
              "      <td>1.0</td>\n",
              "      <td>0.0</td>\n",
              "      <td>0.0</td>\n",
              "      <td>0.0</td>\n",
              "      <td>0.0</td>\n",
              "      <td>0.0</td>\n",
              "      <td>47</td>\n",
              "    </tr>\n",
              "    <tr>\n",
              "      <th>4</th>\n",
              "      <td>2.0</td>\n",
              "      <td>0.0</td>\n",
              "      <td>1.0</td>\n",
              "      <td>0.0</td>\n",
              "      <td>1.0</td>\n",
              "      <td>0.0</td>\n",
              "      <td>0.0</td>\n",
              "      <td>1.0</td>\n",
              "      <td>76</td>\n",
              "    </tr>\n",
              "  </tbody>\n",
              "</table>\n",
              "</div>\n",
              "    <div class=\"colab-df-buttons\">\n",
              "\n",
              "  <div class=\"colab-df-container\">\n",
              "    <button class=\"colab-df-convert\" onclick=\"convertToInteractive('df-f722a3f6-6a1e-43f2-a153-515adc34fd4f')\"\n",
              "            title=\"Convert this dataframe to an interactive table.\"\n",
              "            style=\"display:none;\">\n",
              "\n",
              "  <svg xmlns=\"http://www.w3.org/2000/svg\" height=\"24px\" viewBox=\"0 -960 960 960\">\n",
              "    <path d=\"M120-120v-720h720v720H120Zm60-500h600v-160H180v160Zm220 220h160v-160H400v160Zm0 220h160v-160H400v160ZM180-400h160v-160H180v160Zm440 0h160v-160H620v160ZM180-180h160v-160H180v160Zm440 0h160v-160H620v160Z\"/>\n",
              "  </svg>\n",
              "    </button>\n",
              "\n",
              "  <style>\n",
              "    .colab-df-container {\n",
              "      display:flex;\n",
              "      gap: 12px;\n",
              "    }\n",
              "\n",
              "    .colab-df-convert {\n",
              "      background-color: #E8F0FE;\n",
              "      border: none;\n",
              "      border-radius: 50%;\n",
              "      cursor: pointer;\n",
              "      display: none;\n",
              "      fill: #1967D2;\n",
              "      height: 32px;\n",
              "      padding: 0 0 0 0;\n",
              "      width: 32px;\n",
              "    }\n",
              "\n",
              "    .colab-df-convert:hover {\n",
              "      background-color: #E2EBFA;\n",
              "      box-shadow: 0px 1px 2px rgba(60, 64, 67, 0.3), 0px 1px 3px 1px rgba(60, 64, 67, 0.15);\n",
              "      fill: #174EA6;\n",
              "    }\n",
              "\n",
              "    .colab-df-buttons div {\n",
              "      margin-bottom: 4px;\n",
              "    }\n",
              "\n",
              "    [theme=dark] .colab-df-convert {\n",
              "      background-color: #3B4455;\n",
              "      fill: #D2E3FC;\n",
              "    }\n",
              "\n",
              "    [theme=dark] .colab-df-convert:hover {\n",
              "      background-color: #434B5C;\n",
              "      box-shadow: 0px 1px 3px 1px rgba(0, 0, 0, 0.15);\n",
              "      filter: drop-shadow(0px 1px 2px rgba(0, 0, 0, 0.3));\n",
              "      fill: #FFFFFF;\n",
              "    }\n",
              "  </style>\n",
              "\n",
              "    <script>\n",
              "      const buttonEl =\n",
              "        document.querySelector('#df-f722a3f6-6a1e-43f2-a153-515adc34fd4f button.colab-df-convert');\n",
              "      buttonEl.style.display =\n",
              "        google.colab.kernel.accessAllowed ? 'block' : 'none';\n",
              "\n",
              "      async function convertToInteractive(key) {\n",
              "        const element = document.querySelector('#df-f722a3f6-6a1e-43f2-a153-515adc34fd4f');\n",
              "        const dataTable =\n",
              "          await google.colab.kernel.invokeFunction('convertToInteractive',\n",
              "                                                    [key], {});\n",
              "        if (!dataTable) return;\n",
              "\n",
              "        const docLinkHtml = 'Like what you see? Visit the ' +\n",
              "          '<a target=\"_blank\" href=https://colab.research.google.com/notebooks/data_table.ipynb>data table notebook</a>'\n",
              "          + ' to learn more about interactive tables.';\n",
              "        element.innerHTML = '';\n",
              "        dataTable['output_type'] = 'display_data';\n",
              "        await google.colab.output.renderOutput(dataTable, element);\n",
              "        const docLink = document.createElement('div');\n",
              "        docLink.innerHTML = docLinkHtml;\n",
              "        element.appendChild(docLink);\n",
              "      }\n",
              "    </script>\n",
              "  </div>\n",
              "\n",
              "\n",
              "    <div id=\"df-df0349da-a229-432b-8e42-1f9c32d5884f\">\n",
              "      <button class=\"colab-df-quickchart\" onclick=\"quickchart('df-df0349da-a229-432b-8e42-1f9c32d5884f')\"\n",
              "                title=\"Suggest charts\"\n",
              "                style=\"display:none;\">\n",
              "\n",
              "<svg xmlns=\"http://www.w3.org/2000/svg\" height=\"24px\"viewBox=\"0 0 24 24\"\n",
              "     width=\"24px\">\n",
              "    <g>\n",
              "        <path d=\"M19 3H5c-1.1 0-2 .9-2 2v14c0 1.1.9 2 2 2h14c1.1 0 2-.9 2-2V5c0-1.1-.9-2-2-2zM9 17H7v-7h2v7zm4 0h-2V7h2v10zm4 0h-2v-4h2v4z\"/>\n",
              "    </g>\n",
              "</svg>\n",
              "      </button>\n",
              "\n",
              "<style>\n",
              "  .colab-df-quickchart {\n",
              "      --bg-color: #E8F0FE;\n",
              "      --fill-color: #1967D2;\n",
              "      --hover-bg-color: #E2EBFA;\n",
              "      --hover-fill-color: #174EA6;\n",
              "      --disabled-fill-color: #AAA;\n",
              "      --disabled-bg-color: #DDD;\n",
              "  }\n",
              "\n",
              "  [theme=dark] .colab-df-quickchart {\n",
              "      --bg-color: #3B4455;\n",
              "      --fill-color: #D2E3FC;\n",
              "      --hover-bg-color: #434B5C;\n",
              "      --hover-fill-color: #FFFFFF;\n",
              "      --disabled-bg-color: #3B4455;\n",
              "      --disabled-fill-color: #666;\n",
              "  }\n",
              "\n",
              "  .colab-df-quickchart {\n",
              "    background-color: var(--bg-color);\n",
              "    border: none;\n",
              "    border-radius: 50%;\n",
              "    cursor: pointer;\n",
              "    display: none;\n",
              "    fill: var(--fill-color);\n",
              "    height: 32px;\n",
              "    padding: 0;\n",
              "    width: 32px;\n",
              "  }\n",
              "\n",
              "  .colab-df-quickchart:hover {\n",
              "    background-color: var(--hover-bg-color);\n",
              "    box-shadow: 0 1px 2px rgba(60, 64, 67, 0.3), 0 1px 3px 1px rgba(60, 64, 67, 0.15);\n",
              "    fill: var(--button-hover-fill-color);\n",
              "  }\n",
              "\n",
              "  .colab-df-quickchart-complete:disabled,\n",
              "  .colab-df-quickchart-complete:disabled:hover {\n",
              "    background-color: var(--disabled-bg-color);\n",
              "    fill: var(--disabled-fill-color);\n",
              "    box-shadow: none;\n",
              "  }\n",
              "\n",
              "  .colab-df-spinner {\n",
              "    border: 2px solid var(--fill-color);\n",
              "    border-color: transparent;\n",
              "    border-bottom-color: var(--fill-color);\n",
              "    animation:\n",
              "      spin 1s steps(1) infinite;\n",
              "  }\n",
              "\n",
              "  @keyframes spin {\n",
              "    0% {\n",
              "      border-color: transparent;\n",
              "      border-bottom-color: var(--fill-color);\n",
              "      border-left-color: var(--fill-color);\n",
              "    }\n",
              "    20% {\n",
              "      border-color: transparent;\n",
              "      border-left-color: var(--fill-color);\n",
              "      border-top-color: var(--fill-color);\n",
              "    }\n",
              "    30% {\n",
              "      border-color: transparent;\n",
              "      border-left-color: var(--fill-color);\n",
              "      border-top-color: var(--fill-color);\n",
              "      border-right-color: var(--fill-color);\n",
              "    }\n",
              "    40% {\n",
              "      border-color: transparent;\n",
              "      border-right-color: var(--fill-color);\n",
              "      border-top-color: var(--fill-color);\n",
              "    }\n",
              "    60% {\n",
              "      border-color: transparent;\n",
              "      border-right-color: var(--fill-color);\n",
              "    }\n",
              "    80% {\n",
              "      border-color: transparent;\n",
              "      border-right-color: var(--fill-color);\n",
              "      border-bottom-color: var(--fill-color);\n",
              "    }\n",
              "    90% {\n",
              "      border-color: transparent;\n",
              "      border-bottom-color: var(--fill-color);\n",
              "    }\n",
              "  }\n",
              "</style>\n",
              "\n",
              "      <script>\n",
              "        async function quickchart(key) {\n",
              "          const quickchartButtonEl =\n",
              "            document.querySelector('#' + key + ' button');\n",
              "          quickchartButtonEl.disabled = true;  // To prevent multiple clicks.\n",
              "          quickchartButtonEl.classList.add('colab-df-spinner');\n",
              "          try {\n",
              "            const charts = await google.colab.kernel.invokeFunction(\n",
              "                'suggestCharts', [key], {});\n",
              "          } catch (error) {\n",
              "            console.error('Error during call to suggestCharts:', error);\n",
              "          }\n",
              "          quickchartButtonEl.classList.remove('colab-df-spinner');\n",
              "          quickchartButtonEl.classList.add('colab-df-quickchart-complete');\n",
              "        }\n",
              "        (() => {\n",
              "          let quickchartButtonEl =\n",
              "            document.querySelector('#df-df0349da-a229-432b-8e42-1f9c32d5884f button');\n",
              "          quickchartButtonEl.style.display =\n",
              "            google.colab.kernel.accessAllowed ? 'block' : 'none';\n",
              "        })();\n",
              "      </script>\n",
              "    </div>\n",
              "\n",
              "    </div>\n",
              "  </div>\n"
            ],
            "application/vnd.google.colaboratory.intrinsic+json": {
              "type": "dataframe",
              "variable_name": "df",
              "summary": "{\n  \"name\": \"df\",\n  \"rows\": 1000,\n  \"fields\": [\n    {\n      \"column\": \"parental level of education\",\n      \"properties\": {\n        \"dtype\": \"number\",\n        \"std\": 1.4603326920847781,\n        \"min\": 0.0,\n        \"max\": 5.0,\n        \"num_unique_values\": 6,\n        \"samples\": [\n          4.0,\n          2.0,\n          0.0\n        ],\n        \"semantic_type\": \"\",\n        \"description\": \"\"\n      }\n    },\n    {\n      \"column\": \"test preparation course\",\n      \"properties\": {\n        \"dtype\": \"number\",\n        \"std\": 0.47965202602101437,\n        \"min\": 0.0,\n        \"max\": 1.0,\n        \"num_unique_values\": 2,\n        \"samples\": [\n          1.0,\n          0.0\n        ],\n        \"semantic_type\": \"\",\n        \"description\": \"\"\n      }\n    },\n    {\n      \"column\": \"gender_male\",\n      \"properties\": {\n        \"dtype\": \"number\",\n        \"std\": 0.4999259204381489,\n        \"min\": 0.0,\n        \"max\": 1.0,\n        \"num_unique_values\": 2,\n        \"samples\": [\n          1.0,\n          0.0\n        ],\n        \"semantic_type\": \"\",\n        \"description\": \"\"\n      }\n    },\n    {\n      \"column\": \"race/ethnicity_group B\",\n      \"properties\": {\n        \"dtype\": \"number\",\n        \"std\": 0.39249720260666326,\n        \"min\": 0.0,\n        \"max\": 1.0,\n        \"num_unique_values\": 2,\n        \"samples\": [\n          0.0,\n          1.0\n        ],\n        \"semantic_type\": \"\",\n        \"description\": \"\"\n      }\n    },\n    {\n      \"column\": \"race/ethnicity_group C\",\n      \"properties\": {\n        \"dtype\": \"number\",\n        \"std\": 0.4663222667388513,\n        \"min\": 0.0,\n        \"max\": 1.0,\n        \"num_unique_values\": 2,\n        \"samples\": [\n          1.0,\n          0.0\n        ],\n        \"semantic_type\": \"\",\n        \"description\": \"\"\n      }\n    },\n    {\n      \"column\": \"race/ethnicity_group D\",\n      \"properties\": {\n        \"dtype\": \"number\",\n        \"std\": 0.4399426662072608,\n        \"min\": 0.0,\n        \"max\": 1.0,\n        \"num_unique_values\": 2,\n        \"samples\": [\n          1.0,\n          0.0\n        ],\n        \"semantic_type\": \"\",\n        \"description\": \"\"\n      }\n    },\n    {\n      \"column\": \"race/ethnicity_group E\",\n      \"properties\": {\n        \"dtype\": \"number\",\n        \"std\": 0.3471606552023407,\n        \"min\": 0.0,\n        \"max\": 1.0,\n        \"num_unique_values\": 2,\n        \"samples\": [\n          1.0,\n          0.0\n        ],\n        \"semantic_type\": \"\",\n        \"description\": \"\"\n      }\n    },\n    {\n      \"column\": \"lunch_standard\",\n      \"properties\": {\n        \"dtype\": \"number\",\n        \"std\": 0.47875275895205255,\n        \"min\": 0.0,\n        \"max\": 1.0,\n        \"num_unique_values\": 2,\n        \"samples\": [\n          0.0,\n          1.0\n        ],\n        \"semantic_type\": \"\",\n        \"description\": \"\"\n      }\n    },\n    {\n      \"column\": \"math score\",\n      \"properties\": {\n        \"dtype\": \"number\",\n        \"std\": 14,\n        \"min\": 27,\n        \"max\": 100,\n        \"num_unique_values\": 73,\n        \"samples\": [\n          76,\n          34\n        ],\n        \"semantic_type\": \"\",\n        \"description\": \"\"\n      }\n    }\n  ]\n}"
            }
          },
          "metadata": {},
          "execution_count": 154
        }
      ]
    },
    {
      "cell_type": "code",
      "source": [
        "# @title Multilinear Regression\n",
        "#correlation matrix to see which independent features influence the output feature\n",
        "# Correlation matrix\n",
        "\n",
        "import seaborn as sns\n",
        "\n",
        "corr = df.corr()\n",
        "\n",
        "# Plot heatmap\n",
        "plt.figure(figsize=(10,6))\n",
        "sns.heatmap(corr, annot=True, cmap='coolwarm', fmt=\".2f\")\n",
        "plt.title(\"Correlation Heatmap\")\n",
        "plt.show()"
      ],
      "metadata": {
        "colab": {
          "base_uri": "https://localhost:8080/",
          "height": 717
        },
        "id": "t60f9z-29Wp3",
        "outputId": "772a2476-a35f-4a1c-f026-3a07e09eccf1"
      },
      "execution_count": 155,
      "outputs": [
        {
          "output_type": "display_data",
          "data": {
            "text/plain": [
              "<Figure size 1000x600 with 2 Axes>"
            ],
            "image/png": "[encoded data removed]"
          },
          "metadata": {}
        }
      ]
    },
    {
      "cell_type": "code",
      "source": [
        "\n",
        "# Calculate correlation matrix\n",
        "corr = df.corr()\n",
        "\n",
        "# Print correlation matrix in text form\n",
        "print(\"Correlation Matrix:\\n\")\n",
        "print(corr.round(2))  # Rounded to 2 decimals for neatness\n"
      ],
      "metadata": {
        "colab": {
          "base_uri": "https://localhost:8080/"
        },
        "id": "dHqkcH1S-y7M",
        "outputId": "5e4f7747-e408-4b17-8323-b30ad28bc843"
      },
      "execution_count": 156,
      "outputs": [
        {
          "output_type": "stream",
          "name": "stdout",
          "text": [
            "Correlation Matrix:\n",
            "\n",
            "                             parental level of education  \\\n",
            "parental level of education                         1.00   \n",
            "test preparation course                            -0.01   \n",
            "gender_male                                        -0.04   \n",
            "race/ethnicity_group B                             -0.07   \n",
            "race/ethnicity_group C                              0.04   \n",
            "race/ethnicity_group D                              0.02   \n",
            "race/ethnicity_group E                              0.06   \n",
            "lunch_standard                                     -0.02   \n",
            "math score                                          0.16   \n",
            "\n",
            "                             test preparation course  gender_male  \\\n",
            "parental level of education                    -0.01        -0.04   \n",
            "test preparation course                         1.00         0.01   \n",
            "gender_male                                     0.01         1.00   \n",
            "race/ethnicity_group B                         -0.00        -0.03   \n",
            "race/ethnicity_group C                          0.01        -0.06   \n",
            "race/ethnicity_group D                         -0.06         0.03   \n",
            "race/ethnicity_group E                          0.06         0.02   \n",
            "lunch_standard                                 -0.02         0.02   \n",
            "math score                                      0.18         0.17   \n",
            "\n",
            "                             race/ethnicity_group B  race/ethnicity_group C  \\\n",
            "parental level of education                   -0.07                    0.04   \n",
            "test preparation course                       -0.00                    0.01   \n",
            "gender_male                                   -0.03                   -0.06   \n",
            "race/ethnicity_group B                         1.00                   -0.33   \n",
            "race/ethnicity_group C                        -0.33                    1.00   \n",
            "race/ethnicity_group D                        -0.29                   -0.41   \n",
            "race/ethnicity_group E                        -0.20                   -0.28   \n",
            "lunch_standard                                -0.01                   -0.00   \n",
            "math score                                    -0.08                   -0.07   \n",
            "\n",
            "                             race/ethnicity_group D  race/ethnicity_group E  \\\n",
            "parental level of education                    0.02                    0.06   \n",
            "test preparation course                       -0.06                    0.06   \n",
            "gender_male                                    0.03                    0.02   \n",
            "race/ethnicity_group B                        -0.29                   -0.20   \n",
            "race/ethnicity_group C                        -0.41                   -0.28   \n",
            "race/ethnicity_group D                         1.00                   -0.24   \n",
            "race/ethnicity_group E                        -0.24                    1.00   \n",
            "lunch_standard                                -0.01                    0.05   \n",
            "math score                                     0.05                    0.21   \n",
            "\n",
            "                             lunch_standard  math score  \n",
            "parental level of education           -0.02        0.16  \n",
            "test preparation course               -0.02        0.18  \n",
            "gender_male                            0.02        0.17  \n",
            "race/ethnicity_group B                -0.01       -0.08  \n",
            "race/ethnicity_group C                -0.00       -0.07  \n",
            "race/ethnicity_group D                -0.01        0.05  \n",
            "race/ethnicity_group E                 0.05        0.21  \n",
            "lunch_standard                         1.00        0.35  \n",
            "math score                             0.35        1.00  \n"
          ]
        }
      ]
    },
    {
      "cell_type": "markdown",
      "source": [
        "OBSERVATIONS ABOUT CORRELATION MATRIX:\n",
        "\n",
        "The feature lunch_standard shows the highest correlation with math score at 0.35, which is still considered a weak to modest positive relationship. This suggests that students with standard lunch tend to perform somewhat better in math compared to those with free/reduced lunch, but the effect is not very strong.\n",
        "Parental level of education, test preparation course, and gender_male have weak positive correlations with math scores (around 0.16 to 0.18). These features have some predictive value but are not strong indicators on their own.\n",
        "The various race/ethnicity groups show very weak or negligible correlations with math scores, ranging roughly between -0.08 and 0.21. These features have little predictive power individually.\n",
        "\n",
        "Multicollinearity among features:\n",
        "There are moderate negative correlations among race/ethnicity groups (e.g., group B vs group C: -0.33).\n",
        "This is expected because these are one-hot encoded categorical variables representing mutually exclusive categories.\n",
        "Apart from that, correlations between other independent variables are mostly low (close to zero), which is good — it suggests less risk of multicollinearity problems."
      ],
      "metadata": {
        "id": "QK7C9G3i_AkM"
      }
    },
    {
      "cell_type": "markdown",
      "source": [
        "CONCLUSION ABOUT CORRELATION MATRIX:\n",
        "\n",
        "While lunch_standard has the highest correlation, it still explains a small portion of the variance in math scores. Thus, socioeconomic factors like lunch status and parental education only modestly relate to math performance in this dataset.\n",
        "\n",
        "Test preparation and gender show weak associations, suggesting these factors contribute somewhat but are far from decisive.\n",
        "\n",
        "Race/ethnicity appears to have minimal impact when considered individually, indicating other variables may better explain differences in math scores.\n",
        "\n"
      ],
      "metadata": {
        "id": "PNrBQgYJxVt8"
      }
    },
    {
      "cell_type": "code",
      "source": [
        "# @title Feature Engineering\n"
      ],
      "metadata": {
        "id": "mARJqdU2lDOs"
      },
      "execution_count": 157,
      "outputs": []
    },
    {
      "cell_type": "code",
      "source": [
        "from sklearn.model_selection import train_test_split\n",
        "from sklearn.preprocessing import PolynomialFeatures, StandardScaler\n",
        "from sklearn.linear_model import LinearRegression\n",
        "from sklearn.metrics import mean_squared_error, mean_absolute_error, r2_score\n",
        "import matplotlib.pyplot as plt\n",
        "\n",
        "# Assuming df is your encoded DataFrame including math score\n",
        "# Feature columns exactly as in your encoded df:\n",
        "feature_cols = [\n",
        "    'parental level of education',\n",
        "    'test preparation course',\n",
        "    'gender_male',\n",
        "    'race/ethnicity_group B',\n",
        "    'race/ethnicity_group C',\n",
        "    'race/ethnicity_group D',\n",
        "    'race/ethnicity_group E',\n",
        "    'lunch_standard'\n",
        "]\n",
        "\n",
        "X = df[feature_cols]\n",
        "y = df['math score']\n",
        "\n",
        "# Train-test split (80/20)\n",
        "X_train, X_test, y_train, y_test = train_test_split(X, y, test_size=0.2, random_state=42)\n",
        "\n",
        "# Standardize features\n",
        "scaler = StandardScaler()\n",
        "X_train_scaled = scaler.fit_transform(X_train)\n",
        "X_test_scaled = scaler.transform(X_test)\n",
        "\n",
        "# Multilinear Regression\n",
        "lin_reg = LinearRegression()\n",
        "lin_reg.fit(X_train_scaled, y_train)\n",
        "y_pred_lin = lin_reg.predict(X_test_scaled)\n",
        "\n",
        "# Polynomial Regression (degree 2)\n",
        "poly = PolynomialFeatures(degree=2, include_bias=False)\n",
        "X_train_poly = poly.fit_transform(X_train_scaled)\n",
        "X_test_poly = poly.transform(X_test_scaled)\n",
        "\n",
        "poly_reg = LinearRegression()\n",
        "poly_reg.fit(X_train_poly, y_train)\n",
        "y_pred_poly = poly_reg.predict(X_test_poly)\n",
        "\n",
        "# Evaluation function\n",
        "def evaluate_model(y_true, y_pred, model_name):\n",
        "    rmse = np.sqrt(mean_squared_error(y_true, y_pred))  # corrected here\n",
        "    mae = mean_absolute_error(y_true, y_pred)\n",
        "    r2 = r2_score(y_true, y_pred)\n",
        "    print(f\"{model_name} Performance:\")\n",
        "    print(f\"RMSE: {rmse:.3f}\")\n",
        "    print(f\"MAE: {mae:.3f}\")\n",
        "    print(f\"R² Score: {r2:.3f}\")\n",
        "    print(\"-\" * 40)\n",
        "\n",
        "\n",
        "evaluate_model(y_test, y_pred_lin, \"Multilinear Regression\")\n",
        "evaluate_model(y_test, y_pred_poly, \"Polynomial Regression\")\n",
        "\n",
        "# Plot predicted vs actual\n",
        "plt.figure(figsize=(12, 5))\n",
        "\n",
        "plt.subplot(1, 2, 1)\n",
        "plt.scatter(y_test, y_pred_lin, alpha=0.6)\n",
        "plt.plot([y.min(), y.max()], [y.min(), y.max()], 'r--')\n",
        "plt.title(\"Multilinear Regression\\nPredicted vs Actual\")\n",
        "plt.xlabel(\"Actual Math Score\")\n",
        "plt.ylabel(\"Predicted Math Score\")\n",
        "\n",
        "plt.subplot(1, 2, 2)\n",
        "plt.scatter(y_test, y_pred_poly, alpha=0.6)\n",
        "plt.plot([y.min(), y.max()], [y.min(), y.max()], 'r--')\n",
        "plt.title(\"Polynomial Regression (Degree 2)\\nPredicted vs Actual\")\n",
        "plt.xlabel(\"Actual Math Score\")\n",
        "plt.ylabel(\"Predicted Math Score\")\n",
        "\n",
        "plt.tight_layout()\n",
        "plt.show()\n"
      ],
      "metadata": {
        "colab": {
          "base_uri": "https://localhost:8080/",
          "height": 688
        },
        "id": "Koa3ieCVlDR0",
        "outputId": "778df044-b7b9-4109-acd1-51fe5bd9b3ec"
      },
      "execution_count": 158,
      "outputs": [
        {
          "output_type": "stream",
          "name": "stdout",
          "text": [
            "Multilinear Regression Performance:\n",
            "RMSE: 13.578\n",
            "MAE: 10.987\n",
            "R² Score: 0.185\n",
            "----------------------------------------\n",
            "Polynomial Regression Performance:\n",
            "RMSE: 13.938\n",
            "MAE: 11.225\n",
            "R² Score: 0.141\n",
            "----------------------------------------\n"
          ]
        },
        {
          "output_type": "display_data",
          "data": {
            "text/plain": [
              "<Figure size 1200x500 with 2 Axes>"
            ],
            "image/png": "[encoded data removed]"
          },
          "metadata": {}
        }
      ]
    },
    {
      "cell_type": "markdown",
      "source": [
        "FEATURE SELECTION:\n",
        "\n",
        "For both Multilinear and Polynomial Regression, we selected features based on their correlation with the math score and their relevance in the dataset. These included parental level of education, test preparation course, gender, lunch status, and race/ethnicity groups. For Multilinear Regression, these features were used directly after standardization. For Polynomial Regression, the same features were transformed into polynomial features (degree 2) to capture potential nonlinear relationships and interactions, aiming to improve model performance.\n",
        "\n",
        "VISUALIZATION:\n",
        "PROS:\n",
        "Prediction Trend: Both plots generally show an upward trend, indicating that higher actual scores tend to lead to higher predicted scores — that’s good.\n",
        "Reference Line (y = x): The red dashed line (ideal prediction line) is correctly plotted — it helps visualize how far off the predictions are from actual values.\n",
        "Scatter Distribution: The scatter plots show some correlation, which is expected. Polynomial regression appears to have a slightly tighter fit near the line, especially for mid-range scores.\n",
        "\n",
        "CONS:\n",
        "Underfitting in Multilinear Regression:\n",
        "The predictions seem biased toward the mean. Many actual scores above 80 are predicted around 70.\n",
        "clustering around the mean is typical of a model that's not capturing enough complexity — possibly underfitting.\n",
        "Polynomial Model Slightly Better but Still Biased:\n",
        "There’s slightly better dispersion in the polynomial regression plot, especially in mid-to-high score ranges.\n",
        "However, some high scores are still underestimated, and low scores overestimated."
      ],
      "metadata": {
        "id": "LTrJkQMQ0oc0"
      }
    },
    {
      "cell_type": "markdown",
      "source": [
        "INSIGHTS:\n",
        "\n",
        "1. Low R² scores (~0.12) mean the models explain only about 12% of the variance in your target variable.\n",
        "This is pretty low, indicating your models (linear, polynomial, standardized polynomial) are not capturing the underlying patterns well.\n",
        "\n",
        "2. Similar MAE (~11.5) and RMSE (~14) values across all models show no significant improvement from polynomial or standardization.\n",
        "Standardizing and adding polynomial terms didn’t boost predictive performance meaningfully.\n",
        "\n",
        "3. Possible causes:\n",
        "The relationships between features and target might be more complex/non-linear than polynomial degree 2 can model.\n",
        "\n",
        "Important features might be missing or not well represented in the dataset.\n",
        "\n",
        "4. What to do next:\n",
        "Try more powerful nonlinear models like Random Forest, Gradient Boosting, or Support Vector Regression.\n",
        "\n",
        "Summary:\n",
        "current models show very limited predictive power, so it’s time to explore more advanced algorithms and/or better feature engineering to improve the fit."
      ],
      "metadata": {
        "id": "OiV14mbZmRuh"
      }
    },
    {
      "cell_type": "code",
      "source": [
        "# @title OVERFITTING VS UNDERFITTING IN POLYNOMIAL REGRESSION\n",
        "from sklearn.metrics import mean_squared_error, r2_score\n",
        "import numpy as np\n",
        "\n",
        "# Predict on training data\n",
        "y_train_pred_poly = poly_reg.predict(poly.transform(X_train_scaled))\n",
        "\n",
        "\n",
        "# Calculate training errors\n",
        "train_rmse_poly = np.sqrt(mean_squared_error(y_train, y_train_pred_poly))\n",
        "train_r2_poly = r2_score(y_train, y_train_pred_poly)\n",
        "\n",
        "# Calculate testing errors\n",
        "test_rmse_poly = np.sqrt(mean_squared_error(y_test, y_pred_poly))\n",
        "test_r2_poly = r2_score(y_test, y_pred_poly)\n",
        "\n",
        "print(f\"Polynomial Regression Training RMSE: {train_rmse_poly:.3f}\")\n",
        "print(f\"Polynomial Regression Testing RMSE: {test_rmse_poly:.3f}\")\n",
        "print(f\"Polynomial Regression Training R²: {train_r2_poly:.3f}\")\n",
        "print(f\"Polynomial Regression Testing R²: {test_r2_poly:.3f}\")\n",
        "\n",
        "# Interpretation:\n",
        "if train_rmse_poly < test_rmse_poly and (test_rmse_poly - train_rmse_poly) > 1:\n",
        "    print(\"Likely Overfitting: Training error is much lower than testing error.\")\n",
        "elif train_rmse_poly > test_rmse_poly:\n",
        "    print(\"Unusual case: Training error is higher than testing error.\")\n",
        "else:\n",
        "    print(\"Likely Underfitting or Good Fit: Training and testing errors are close.\")\n"
      ],
      "metadata": {
        "colab": {
          "base_uri": "https://localhost:8080/"
        },
        "id": "5GQvEAkqlDZD",
        "outputId": "dbd4b213-855b-400b-a646-2b406850875f"
      },
      "execution_count": 159,
      "outputs": [
        {
          "output_type": "stream",
          "name": "stdout",
          "text": [
            "Polynomial Regression Training RMSE: 12.662\n",
            "Polynomial Regression Testing RMSE: 13.938\n",
            "Polynomial Regression Training R²: 0.274\n",
            "Polynomial Regression Testing R²: 0.141\n",
            "Likely Overfitting: Training error is much lower than testing error.\n"
          ]
        }
      ]
    },
    {
      "cell_type": "markdown",
      "source": [
        "Polynomial Regression Analysis:\n",
        "\n",
        "The polynomial regression model shows signs of overfitting. The training RMSE (12.662) is lower than the testing RMSE (13.938), and the training R² (0.274) is higher than the testing R² (0.141). This indicates that the model fits the training data well but performs worse on unseen data, suggesting it captures noise or overly complex patterns that do not generalize. To improve, regularization or simpler models should be considered."
      ],
      "metadata": {
        "id": "V4EWO2Nrnxkm"
      }
    },
    {
      "cell_type": "markdown",
      "source": [
        "CONCLUSION:\n",
        "\n",
        "\n",
        "Multilinear Regression showed modest predictive performance with an R² around 0.185, indicating a limited but positive relationship between the selected features and math scores.\n",
        "\n",
        "Polynomial Regression achieved slightly lower test performance (R² ~ 0.141) but higher training accuracy (R² ~ 0.274), signaling overfitting where the model captures noise in training data but struggles to generalize.\n",
        "\n",
        "Multilinear Regression performs slightly better across all metrics:\n",
        "\n",
        "Lower RMSE and MAE indicate it makes smaller errors on average.\n",
        "Higher R² (though still low) means it explains slightly more variance in the data.\n",
        "Both models perform poorly overall:\n",
        "R² below 0.2 suggests very limited explanatory power — most of the variability in math scores isn't being captured.\n",
        "High error values (MAE ~11, RMSE ~13.5) relative to the scale of math scores (0–100) further confirm weak predictive accuracy.\n",
        "\n"
      ],
      "metadata": {
        "id": "7Go4ciqAn9zA"
      }
    }
  ]
}